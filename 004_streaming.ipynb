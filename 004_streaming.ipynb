{
 "cells": [
  {
   "cell_type": "code",
   "execution_count": 1,
   "id": "ed6f19f2-e374-447f-822a-31d8e893877a",
   "metadata": {},
   "outputs": [
    {
     "data": {
      "text/plain": [
       "True"
      ]
     },
     "execution_count": 1,
     "metadata": {},
     "output_type": "execute_result"
    }
   ],
   "source": [
    "from dotenv import load_dotenv\n",
    "import os\n",
    "load_dotenv()"
   ]
  },
  {
   "cell_type": "code",
   "execution_count": 2,
   "id": "2187da94-243e-4d92-818d-2dcc73a15529",
   "metadata": {},
   "outputs": [],
   "source": [
    "from utils.anthropic_client import ChatClient\n",
    "\n",
    "api_key = os.getenv('ANTHROPIC_API_KEY')\n",
    "if api_key is None:\n",
    "    raise ValueError(\"ANTHROPIC_API_KEY not found in environment variables\")\n",
    "\n",
    "messages = []\n",
    "max_tokens = 1000\n",
    "temperature = 1.0\n",
    "\n",
    "params = {\n",
    "        \"max_tokens\": max_tokens,\n",
    "        \"messages\": messages,\n",
    "        \"temperature\": temperature\n",
    "    }\n",
    "# Create with system message\n",
    "chat_client = ChatClient(\n",
    "    api_key=api_key,\n",
    "    model=\"claude-3-haiku-20240307\",\n",
    "    params=params\n",
    ")"
   ]
  },
  {
   "cell_type": "code",
   "execution_count": 3,
   "id": "900befec-93bf-4d11-a829-a104a4748018",
   "metadata": {},
   "outputs": [],
   "source": [
    "chat_client.add_user_message(messages, \"Write a 1 sentence description of the difficulty of learning Poland language.\")\n",
    "chat_client.set_messages(messages)"
   ]
  },
  {
   "cell_type": "code",
   "execution_count": 4,
   "id": "6004ac75-5cca-4f12-8e06-2dde36c2acbb",
   "metadata": {},
   "outputs": [
    {
     "name": "stdout",
     "output_type": "stream",
     "text": [
      "Learning the Polish language can be challenging due to its complex grammar, including complicated noun cases, verb conjugations, and a unique alphabet that uses diacritical marks, making it a language that requires significant time and dedication to master."
     ]
    },
    {
     "data": {
      "text/plain": [
       "('Learning the Polish language can be challenging due to its complex grammar, including complicated noun cases, verb conjugations, and a unique alphabet that uses diacritical marks, making it a language that requires significant time and dedication to master.',\n",
       " Message(id='msg_015cTwKvdaiWwN58APKHC9iZ', content=[TextBlock(citations=None, text='Learning the Polish language can be challenging due to its complex grammar, including complicated noun cases, verb conjugations, and a unique alphabet that uses diacritical marks, making it a language that requires significant time and dedication to master.', type='text')], model='claude-3-haiku-20240307', role='assistant', stop_reason='end_turn', stop_sequence=None, type='message', usage=Usage(cache_creation_input_tokens=0, cache_read_input_tokens=0, input_tokens=22, output_tokens=50, server_tool_use=None, service_tier='standard', cache_creation={'ephemeral_5m_input_tokens': 0, 'ephemeral_1h_input_tokens': 0})))"
      ]
     },
     "execution_count": 4,
     "metadata": {},
     "output_type": "execute_result"
    }
   ],
   "source": [
    "chat_client.send_message_stream()"
   ]
  },
  {
   "cell_type": "code",
   "execution_count": null,
   "id": "ded0283f-70d4-4e1b-8e07-d08040c8dc69",
   "metadata": {},
   "outputs": [],
   "source": []
  }
 ],
 "metadata": {
  "kernelspec": {
   "display_name": "Python 3 (ipykernel)",
   "language": "python",
   "name": "python3"
  },
  "language_info": {
   "codemirror_mode": {
    "name": "ipython",
    "version": 3
   },
   "file_extension": ".py",
   "mimetype": "text/x-python",
   "name": "python",
   "nbconvert_exporter": "python",
   "pygments_lexer": "ipython3",
   "version": "3.10.18"
  }
 },
 "nbformat": 4,
 "nbformat_minor": 5
}
