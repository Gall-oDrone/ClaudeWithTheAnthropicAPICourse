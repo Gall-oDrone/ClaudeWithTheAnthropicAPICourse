{
 "cells": [
  {
   "cell_type": "code",
   "execution_count": 1,
   "id": "b23c1f07-c82d-4b58-8ce1-5f18449eb092",
   "metadata": {},
   "outputs": [
    {
     "data": {
      "text/plain": [
       "True"
      ]
     },
     "execution_count": 1,
     "metadata": {},
     "output_type": "execute_result"
    }
   ],
   "source": [
    "from utils.chat_utils import add_user_message, add_assistant_message\n",
    "from dotenv import load_dotenv\n",
    "import os\n",
    "load_dotenv()"
   ]
  },
  {
   "cell_type": "code",
   "execution_count": 5,
   "id": "7f3cb943-aa44-42d4-af4f-8704b9931f5b",
   "metadata": {},
   "outputs": [
    {
     "ename": "TypeError",
     "evalue": "anthropic.resources.messages.messages.Messages.create() got multiple values for keyword argument 'model'",
     "output_type": "error",
     "traceback": [
      "\u001b[0;31m---------------------------------------------------------------------------\u001b[0m",
      "\u001b[0;31mTypeError\u001b[0m                                 Traceback (most recent call last)",
      "Cell \u001b[0;32mIn[5], line 21\u001b[0m\n\u001b[1;32m     19\u001b[0m chat_client\u001b[38;5;241m.\u001b[39madd_user_message(messages, \u001b[38;5;124m\"\u001b[39m\u001b[38;5;124mShould I invest in crypto?\u001b[39m\u001b[38;5;124m\"\u001b[39m)\n\u001b[1;32m     20\u001b[0m chat_client\u001b[38;5;241m.\u001b[39mset_messages(messages)\n\u001b[0;32m---> 21\u001b[0m response \u001b[38;5;241m=\u001b[39m \u001b[43mchat_client\u001b[49m\u001b[38;5;241;43m.\u001b[39;49m\u001b[43msend_message\u001b[49m\u001b[43m(\u001b[49m\u001b[43m)\u001b[49m\n\u001b[1;32m     23\u001b[0m response\n",
      "File \u001b[0;32m~/genAI/Anthropic_Claude_Model/ClaudeWithTheAnthropicAPICourse/utils/anthropic_client.py:144\u001b[0m, in \u001b[0;36mChatClient.send_message\u001b[0;34m(self)\u001b[0m\n\u001b[1;32m    133\u001b[0m \u001b[38;5;28;01mdef\u001b[39;00m\u001b[38;5;250m \u001b[39m\u001b[38;5;21msend_message\u001b[39m(\u001b[38;5;28mself\u001b[39m):\n\u001b[1;32m    134\u001b[0m \u001b[38;5;250m    \u001b[39m\u001b[38;5;124;03m\"\"\"\u001b[39;00m\n\u001b[1;32m    135\u001b[0m \u001b[38;5;124;03m    Send a chat request to the Anthropic API.\u001b[39;00m\n\u001b[1;32m    136\u001b[0m \u001b[38;5;124;03m    \u001b[39;00m\n\u001b[0;32m   (...)\u001b[0m\n\u001b[1;32m    142\u001b[0m \u001b[38;5;124;03m        str: The text content of the assistant's response.\u001b[39;00m\n\u001b[1;32m    143\u001b[0m \u001b[38;5;124;03m    \"\"\"\u001b[39;00m\n\u001b[0;32m--> 144\u001b[0m     message \u001b[38;5;241m=\u001b[39m \u001b[38;5;28mself\u001b[39m\u001b[38;5;241m.\u001b[39mclient\u001b[38;5;241m.\u001b[39mmessages\u001b[38;5;241m.\u001b[39mcreate(\n\u001b[1;32m    145\u001b[0m         model\u001b[38;5;241m=\u001b[39m\u001b[38;5;28mself\u001b[39m\u001b[38;5;241m.\u001b[39mmodel,\n\u001b[1;32m    146\u001b[0m         \u001b[38;5;241m*\u001b[39m\u001b[38;5;241m*\u001b[39m\u001b[38;5;28mself\u001b[39m\u001b[38;5;241m.\u001b[39mparams\n\u001b[1;32m    147\u001b[0m     )\n\u001b[1;32m    148\u001b[0m     \u001b[38;5;28;01mreturn\u001b[39;00m message\u001b[38;5;241m.\u001b[39mcontent[\u001b[38;5;241m0\u001b[39m]\u001b[38;5;241m.\u001b[39mtext\n",
      "\u001b[0;31mTypeError\u001b[0m: anthropic.resources.messages.messages.Messages.create() got multiple values for keyword argument 'model'"
     ]
    }
   ],
   "source": [
    "from utils.anthropic_client import ChatClient\n",
    "\n",
    "api_key = os.getenv('ANTHROPIC_API_KEY')\n",
    "if api_key is None:\n",
    "    raise ValueError(\"ANTHROPIC_API_KEY not found in environment variables\")\n",
    "\n",
    "messages = []\n",
    "params = {\n",
    "        \"max_tokens\": 1000,\n",
    "        \"messages\": messages\n",
    "    }\n",
    "# Create with system message\n",
    "chat_client = ChatClient(\n",
    "    api_key=api_key,\n",
    "    model=\"claude-3-haiku-20240307\",\n",
    "    params=params\n",
    ")\n",
    "\n",
    "chat_client.add_user_message(messages, \"Should I invest in crypto?\")\n",
    "chat_client.set_messages(messages)\n",
    "response = chat_client.send_message()\n",
    "\n",
    "response"
   ]
  },
  {
   "cell_type": "code",
   "execution_count": null,
   "id": "edd4adab-3519-441f-9072-94c790fb8efa",
   "metadata": {},
   "outputs": [],
   "source": []
  }
 ],
 "metadata": {
  "kernelspec": {
   "display_name": "Python 3 (ipykernel)",
   "language": "python",
   "name": "python3"
  },
  "language_info": {
   "codemirror_mode": {
    "name": "ipython",
    "version": 3
   },
   "file_extension": ".py",
   "mimetype": "text/x-python",
   "name": "python",
   "nbconvert_exporter": "python",
   "pygments_lexer": "ipython3",
   "version": "3.10.18"
  }
 },
 "nbformat": 4,
 "nbformat_minor": 5
}
