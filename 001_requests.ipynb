{
 "cells": [
  {
   "cell_type": "markdown",
   "id": "79cdf925-a802-4f11-9901-78a52c92f592",
   "metadata": {},
   "source": [
    "## Setting Up Your Environment"
   ]
  },
  {
   "cell_type": "code",
   "execution_count": null,
   "id": "3b00875d-cf37-48ba-9cc3-7fe0951c948f",
   "metadata": {},
   "outputs": [],
   "source": [
    "%pip install anthropic python-dotenv"
   ]
  },
  {
   "cell_type": "markdown",
   "id": "0d191b4c-9a37-484b-910b-047e73584a3b",
   "metadata": {},
   "source": [
    "## Load env variables"
   ]
  },
  {
   "cell_type": "code",
   "execution_count": 2,
   "id": "8518b707-0aaf-4470-b670-037134bd2232",
   "metadata": {},
   "outputs": [
    {
     "data": {
      "text/plain": [
       "True"
      ]
     },
     "execution_count": 2,
     "metadata": {},
     "output_type": "execute_result"
    }
   ],
   "source": [
    "from dotenv import load_dotenv\n",
    "\n",
    "load_dotenv()"
   ]
  },
  {
   "cell_type": "markdown",
   "id": "e0c50359-2a5b-42b0-ac51-38a97b096650",
   "metadata": {},
   "source": [
    "## Create an API Client"
   ]
  },
  {
   "cell_type": "code",
   "execution_count": 3,
   "id": "7aca6e75-f1b2-4bab-b7f8-3b1c72a9907d",
   "metadata": {},
   "outputs": [],
   "source": [
    "from anthropic import Anthropic\n",
    "\n",
    "client = Anthropic()\n",
    "model = \"claude-sonnet-4-0\""
   ]
  },
  {
   "cell_type": "markdown",
   "id": "2bc9c215-26f1-4127-ac78-01a5234fd6ce",
   "metadata": {},
   "source": [
    "## Make a request"
   ]
  },
  {
   "cell_type": "code",
   "execution_count": 5,
   "id": "ea0471ef-8c4c-40b2-b4e9-8971532588ab",
   "metadata": {},
   "outputs": [],
   "source": [
    "def add_user_message(messages, text):\n",
    "    user_msg = {\"role\":\"user\",\"content\":text}\n",
    "    messages.append(user_msg)\n",
    "\n",
    "def add_assistant_message(messages, text):\n",
    "    assistant_message = {\"role\":\"assistant\",\"content\":text}\n",
    "    messages.append(assistant_message)\n",
    "\n",
    "def chat(messages):\n",
    "    message = client.messages.create(\n",
    "        model=model,\n",
    "        max_tokens=1000,\n",
    "        messages=messages\n",
    "    )\n",
    "    return message.content[0].text\n",
    "    "
   ]
  },
  {
   "cell_type": "code",
   "execution_count": 6,
   "id": "a854ad98-3ea1-4fbe-bb38-c3505e3582bb",
   "metadata": {},
   "outputs": [
    {
     "data": {
      "text/plain": [
       "'Financial quants are increasingly incorporating artificial intelligence and machine learning techniques into their models, transforming traditional quantitative finance by enabling more sophisticated pattern recognition in market data and automated decision-making processes.'"
      ]
     },
     "execution_count": 6,
     "metadata": {},
     "output_type": "execute_result"
    }
   ],
   "source": [
    "# Make a starting list of messages\n",
    "messages = []\n",
    "\n",
    "# Add in the initial user question\n",
    "add_user_message(messages, \"What is Financial Quant\")\n",
    "\n",
    "# Pass the list of messages into 'chat' to get an answer\n",
    "answer = chat(messages)\n",
    "\n",
    "# Take the answer and add it as an assistant message into our list\n",
    "add_assistant_message(messages, answer)\n",
    "\n",
    "# Add in the user's follow-up question\n",
    "add_user_message(messages, \"Write another sentence\")\n",
    "\n",
    "# Call chat again with the list of messages to get a final answer\n",
    "answer = chat(messages)\n",
    "answer"
   ]
  },
  {
   "cell_type": "code",
   "execution_count": null,
   "id": "89fbcb00-385b-486e-9a1e-16e8cf8a3b57",
   "metadata": {},
   "outputs": [],
   "source": [
    "# Make an initial list of messages\n",
    "messages = []\n",
    "\n",
    "# Use a 'while True' loop to trun the chatbot forever\n",
    "while True:\n",
    "    # Get User input\n",
    "    user_input = input(\"> \")\n",
    "    print(\">\", user_input)\n",
    "\n",
    "    # Add user input to the list of messages\n",
    "    add_user_message(messages,user_input)\n",
    "    \n",
    "    # Call Claude with the 'chat' function\n",
    "    answer = chat(messages)\n",
    "    \n",
    "    # Add generated text to the list of messages\n",
    "    add_assistant_message(messages, answer)\n",
    "    \n",
    "    # Print the generated text\n",
    "    answer"
   ]
  }
 ],
 "metadata": {
  "kernelspec": {
   "display_name": "Python 3 (ipykernel)",
   "language": "python",
   "name": "python3"
  },
  "language_info": {
   "codemirror_mode": {
    "name": "ipython",
    "version": 3
   },
   "file_extension": ".py",
   "mimetype": "text/x-python",
   "name": "python",
   "nbconvert_exporter": "python",
   "pygments_lexer": "ipython3",
   "version": "3.10.18"
  }
 },
 "nbformat": 4,
 "nbformat_minor": 5
}
