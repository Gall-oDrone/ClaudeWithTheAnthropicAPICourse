{
 "cells": [
  {
   "cell_type": "code",
   "execution_count": 1,
   "id": "d9ecc72e-60d4-479f-803c-86738791b888",
   "metadata": {},
   "outputs": [
    {
     "data": {
      "text/plain": [
       "True"
      ]
     },
     "execution_count": 1,
     "metadata": {},
     "output_type": "execute_result"
    }
   ],
   "source": [
    "from utils.chat_utils import text_to_json\n",
    "from dotenv import load_dotenv\n",
    "import os\n",
    "load_dotenv()"
   ]
  },
  {
   "cell_type": "code",
   "execution_count": 2,
   "id": "50836289-de71-4b33-93bd-dfa41ebca106",
   "metadata": {},
   "outputs": [],
   "source": [
    "from utils.anthropic_client import ChatClient\n",
    "\n",
    "api_key = os.getenv('ANTHROPIC_API_KEY')\n",
    "if api_key is None:\n",
    "    raise ValueError(\"ANTHROPIC_API_KEY not found in environment variables\")\n",
    "\n",
    "messages = []\n",
    "max_tokens = 1000\n",
    "temperature = 1.0\n",
    "stop_sequences=[\", 5\"]\n",
    "\n",
    "params = {\n",
    "        \"max_tokens\": max_tokens,\n",
    "        \"messages\": messages,\n",
    "        \"temperature\": temperature,\n",
    "        \"stop_sequences\": stop_sequences\n",
    "    }\n",
    "# Create with system message\n",
    "chat_client = ChatClient(\n",
    "    api_key=api_key,\n",
    "    model=\"claude-3-haiku-20240307\",\n",
    "    params=params\n",
    ")"
   ]
  },
  {
   "cell_type": "code",
   "execution_count": 3,
   "id": "e9b03c1c-c32c-4147-93bc-43033ed2cea3",
   "metadata": {},
   "outputs": [
    {
     "data": {
      "text/plain": [
       "':\\n\\n1. Visa requirements: It is generally easier for Mexicans to obtain a visa to visit Poland compared to Russia. Poland is a member of the European Union, so Mexicans can often get a Schengen visa to visit Poland more easily.\\n\\n2. Cultural similarity: Poland has some cultural similarities with Mexico, being a Catholic-majority country with a rich history and cultural heritage. This can make the travel experience more comfortable and relatable for Mexican travelers.\\n\\n3. Safety and stability: Poland is considered a safer and more politically stable destination compared to Russia, which has faced some geopolitical tensions in recent years.\\n\\n4. Travel infrastructure: Poland has a well-developed tourism infrastructure, with good transportation options, accommodations, and English-language services, which can make it more accessible for Mexican travelers.\\n\\n5. Cost: Traveling in Poland is generally more affordable for Mexican travelers compared to Russia, which can be more expensive.\\n\\nSo in summary, Poland is a better travel destination for Mexicans compared to Russia, due to the easier visa requirements, cultural similarities, safety, travel infrastructure, and overall cost-effectiveness.'"
      ]
     },
     "execution_count": 3,
     "metadata": {},
     "output_type": "execute_result"
    }
   ],
   "source": [
    "chat_client.add_user_message(messages, \"Which country is Better to travel for a mexican Poland or Russia?\")\n",
    "chat_client.add_assistant_message(messages, \"Poland is better because\")\n",
    "chat_client.set_messages(messages)\n",
    "response = chat_client.send_message()\n",
    "\n",
    "response"
   ]
  },
  {
   "cell_type": "code",
   "execution_count": 5,
   "id": "a0533ccf-63b1-4ce1-85aa-dc182270185c",
   "metadata": {},
   "outputs": [
    {
     "data": {
      "text/plain": [
       "'1, 2, 3, 4'"
      ]
     },
     "execution_count": 5,
     "metadata": {},
     "output_type": "execute_result"
    }
   ],
   "source": [
    "messages = []\n",
    "\n",
    "chat_client.add_user_message(messages, \"Count from 1 to 10\")\n",
    "chat_client.set_messages(messages)\n",
    "response = chat_client.send_message()\n",
    "\n",
    "response"
   ]
  },
  {
   "cell_type": "code",
   "execution_count": 5,
   "id": "af682e73-6a83-4656-a369-a3ade188ed8a",
   "metadata": {},
   "outputs": [
    {
     "data": {
      "text/plain": [
       "'\\n{\\n  \"Version\": \"2012-10-17\",\\n  \"Statement\": [\\n    {\\n      \"Sid\": \"MyEventBridgeRule\",\\n      \"Effect\": \"Allow\",\\n      \"Principal\": {\\n        \"Service\": \"events.amazonaws.com\"\\n      },\\n      \"Action\": \"sts:AssumeRole\",\\n      \"Resource\": \"arn:aws:iam::123456789012:role/my-event-bridge-role\"\\n    }\\n  ]\\n}\\n'"
      ]
     },
     "execution_count": 5,
     "metadata": {},
     "output_type": "execute_result"
    }
   ],
   "source": [
    "messages = []\n",
    "\n",
    "chat_client.add_user_message(messages, \"Generate a very short AWS event bridge rule as json\")\n",
    "chat_client.add_assistant_message(messages, \"```json\")\n",
    "chat_client.set_messages(messages)\n",
    "chat_client.set_stop_sequences([\"```\"])\n",
    "chat_client.set_temperature(0)\n",
    "response = chat_client.send_message()\n",
    "\n",
    "response"
   ]
  },
  {
   "cell_type": "code",
   "execution_count": 6,
   "id": "59e43fee-c1ae-4afb-8580-4f784b258864",
   "metadata": {},
   "outputs": [
    {
     "data": {
      "text/plain": [
       "{'Version': '2012-10-17',\n",
       " 'Statement': [{'Sid': 'MyEventBridgeRule',\n",
       "   'Effect': 'Allow',\n",
       "   'Principal': {'Service': 'events.amazonaws.com'},\n",
       "   'Action': 'sts:AssumeRole',\n",
       "   'Resource': 'arn:aws:iam::123456789012:role/my-event-bridge-role'}]}"
      ]
     },
     "execution_count": 6,
     "metadata": {},
     "output_type": "execute_result"
    }
   ],
   "source": [
    "json_text = text_to_json(response)\n",
    "json_text"
   ]
  },
  {
   "cell_type": "markdown",
   "id": "946f28e2-c806-4cb7-bf50-79b279f32305",
   "metadata": {},
   "source": [
    "## Exercise!\n",
    "\n",
    " * Use message prefilling and stop sequences only to get three different commands in a single response\n",
    " * There shouldn't be any comments or explanation\n",
    " * Hint: message prefilling isn't limited to just characters like ```"
   ]
  },
  {
   "cell_type": "code",
   "execution_count": 4,
   "id": "ee69b186-d363-4b19-a34e-61feba1d0cc2",
   "metadata": {},
   "outputs": [
    {
     "data": {
      "text/plain": [
       "'Here are three different sample AWS CLI commands:\\n\\n1. `aws s3 ls`\\n2. `aws ec2 describe-instances`\\n3. `aws lambda invoke --function-name my-function output.txt`'"
      ]
     },
     "execution_count": 4,
     "metadata": {},
     "output_type": "execute_result"
    }
   ],
   "source": [
    "message = [] \n",
    "\n",
    "prompt = \"\"\"\n",
    "Generate three different sample AWS CLI commands. Each should be very short.\n",
    "\"\"\"\n",
    "chat_client.add_user_message(messages, prompt)\n",
    "chat_client.set_messages(messages)\n",
    "chat_client.set_stop_sequences(None)\n",
    "chat_client.set_temperature(0)\n",
    "response = chat_client.send_message()\n",
    "\n",
    "response\n"
   ]
  },
  {
   "cell_type": "code",
   "execution_count": 5,
   "id": "90801cfe-b643-40ad-ae93-7558f933eb0d",
   "metadata": {},
   "outputs": [
    {
     "data": {
      "text/markdown": [
       "Here are three different sample AWS CLI commands:\n",
       "\n",
       "1. `aws s3 ls`\n",
       "2. `aws ec2 describe-instances`\n",
       "3. `aws lambda invoke --function-name my-function output.txt`"
      ],
      "text/plain": [
       "<IPython.core.display.Markdown object>"
      ]
     },
     "execution_count": 5,
     "metadata": {},
     "output_type": "execute_result"
    }
   ],
   "source": [
    "from IPython.display import Markdown\n",
    "\n",
    "Markdown(response)"
   ]
  },
  {
   "cell_type": "markdown",
   "id": "564d9702-5356-4025-9b4f-5c451adaeadf",
   "metadata": {},
   "source": [
    "## Solution"
   ]
  },
  {
   "cell_type": "code",
   "execution_count": 22,
   "id": "f64093dc-e307-4af7-b4a6-ca3c53e3bee7",
   "metadata": {},
   "outputs": [
    {
     "data": {
      "text/plain": [
       "'\\naws s3 ls\\naws ec2 describe-instances\\naws lambda invoke --function-name my-function --payload file://input.json output.txt\\n'"
      ]
     },
     "execution_count": 22,
     "metadata": {},
     "output_type": "execute_result"
    }
   ],
   "source": [
    "messages = [] \n",
    "\n",
    "prompt = \"\"\"\n",
    "Generate three different sample AWS CLI commands. Each should be very short.\n",
    "\"\"\"\n",
    "chat_client.add_user_message(messages, prompt)\n",
    "chat_client.add_assistant_message(messages, \"Here are three different sample AWS CLI commands:\\n```bash\")\n",
    "chat_client.set_messages(messages)\n",
    "chat_client.set_stop_sequences([\"\\n```\"])\n",
    "chat_client.set_temperature(0)\n",
    "response = chat_client.send_message()\n",
    "\n",
    "response"
   ]
  },
  {
   "cell_type": "code",
   "execution_count": null,
   "id": "9e592209-bdd2-4931-8677-2a0ce7d5317b",
   "metadata": {},
   "outputs": [],
   "source": [
    "Markdown(response)"
   ]
  }
 ],
 "metadata": {
  "kernelspec": {
   "display_name": "Python 3 (ipykernel)",
   "language": "python",
   "name": "python3"
  },
  "language_info": {
   "codemirror_mode": {
    "name": "ipython",
    "version": 3
   },
   "file_extension": ".py",
   "mimetype": "text/x-python",
   "name": "python",
   "nbconvert_exporter": "python",
   "pygments_lexer": "ipython3",
   "version": "3.10.18"
  }
 },
 "nbformat": 4,
 "nbformat_minor": 5
}
