{
 "cells": [
  {
   "cell_type": "code",
   "execution_count": null,
   "id": "e88b9abc-ec72-4a4a-a39f-d9623efafa62",
   "metadata": {},
   "outputs": [
    {
     "data": {
      "text/plain": [
       "True"
      ]
     },
     "execution_count": 3,
     "metadata": {},
     "output_type": "execute_result"
    }
   ],
   "source": [
    "import sys\n",
    "import os\n",
    "\n",
    "# Add the parent directory to the Python path (since notebooks don't have __file__)\n",
    "current_dir = os.getcwd()\n",
    "if current_dir.endswith('notebooks'):\n",
    "    parent_dir = os.path.dirname(current_dir)\n",
    "    sys.path.append(parent_dir)\n",
    "\n",
    "from dotenv import load_dotenv\n",
    "load_dotenv()"
   ]
  },
  {
   "cell_type": "code",
   "execution_count": 4,
   "id": "abde3b41-1e12-4afd-9fa9-8d9d4c011f6e",
   "metadata": {},
   "outputs": [],
   "source": [
    "from utils.anthropic_client import ChatClient\n",
    "\n",
    "api_key = os.getenv('ANTHROPIC_API_KEY')\n",
    "if api_key is None:\n",
    "    raise ValueError(\"ANTHROPIC_API_KEY not found in environment variables\")\n",
    "\n",
    "messages = []\n",
    "max_tokens = 1000\n",
    "temperature = 1.0\n",
    "params = {\n",
    "        \"max_tokens\": max_tokens,\n",
    "        \"messages\": messages,\n",
    "        \"temperature\": temperature\n",
    "    }\n",
    "# Create with system message\n",
    "chat_client = ChatClient(\n",
    "    api_key=api_key,\n",
    "    model=\"claude-3-haiku-20240307\",\n",
    "    params=params\n",
    ")"
   ]
  },
  {
   "cell_type": "code",
   "execution_count": 5,
   "id": "559f0e2b-f9df-4389-8ac3-250a4ed65492",
   "metadata": {},
   "outputs": [
    {
     "data": {
      "text/plain": [
       "'In a fiery and treacherous landscape, the ground has turned into a scorching sea of lava, forcing players to navigate a perilous path across suspended platforms, crumbling bridges, and shifting stepping stones to reach the safety of the distant shore.'"
      ]
     },
     "execution_count": 5,
     "metadata": {},
     "output_type": "execute_result"
    }
   ],
   "source": [
    "chat_client.add_user_message(messages, \"Generate a one sentence idea for a game level where the ground is lava.\")\n",
    "chat_client.set_messages(messages)\n",
    "response = chat_client.send_message()\n",
    "\n",
    "response"
   ]
  },
  {
   "cell_type": "code",
   "execution_count": null,
   "id": "f213891e-5ebd-4127-8f10-875ad5c062bc",
   "metadata": {},
   "outputs": [],
   "source": []
  }
 ],
 "metadata": {
  "kernelspec": {
   "display_name": "Python 3 (ipykernel)",
   "language": "python",
   "name": "python3"
  },
  "language_info": {
   "codemirror_mode": {
    "name": "ipython",
    "version": 3
   },
   "file_extension": ".py",
   "mimetype": "text/x-python",
   "name": "python",
   "nbconvert_exporter": "python",
   "pygments_lexer": "ipython3",
   "version": "3.10.18"
  }
 },
 "nbformat": 4,
 "nbformat_minor": 5
}
