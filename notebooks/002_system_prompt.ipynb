{
 "cells": [
  {
   "cell_type": "code",
   "execution_count": null,
   "id": "b23c1f07-c82d-4b58-8ce1-5f18449eb092",
   "metadata": {},
   "outputs": [
    {
     "data": {
      "text/plain": [
       "True"
      ]
     },
     "execution_count": 1,
     "metadata": {},
     "output_type": "execute_result"
    }
   ],
   "source": [
    "import sys\n",
    "import os\n",
    "\n",
    "# Add the parent directory to the Python path (since notebooks don't have __file__)\n",
    "current_dir = os.getcwd()\n",
    "if current_dir.endswith('notebooks'):\n",
    "    parent_dir = os.path.dirname(current_dir)\n",
    "    sys.path.append(parent_dir)\n",
    "\n",
    "from utils.chat_utils import add_user_message, add_assistant_message\n",
    "from dotenv import load_dotenv\n",
    "load_dotenv()"
   ]
  },
  {
   "cell_type": "code",
   "execution_count": 4,
   "id": "15b11b0f-340e-4c3e-a83d-b23f86947e54",
   "metadata": {},
   "outputs": [],
   "source": [
    "from utils.anthropic_client import ChatClient\n",
    "\n",
    "api_key = os.getenv('ANTHROPIC_API_KEY')\n",
    "if api_key is None:\n",
    "    raise ValueError(\"ANTHROPIC_API_KEY not found in environment variables\")\n",
    "\n",
    "messages = []\n",
    "params = {\n",
    "        \"max_tokens\": 1000,\n",
    "        \"messages\": messages\n",
    "    }\n",
    "# Create with system message\n",
    "chat_client = ChatClient(\n",
    "    api_key=api_key,\n",
    "    model=\"claude-3-haiku-20240307\",\n",
    "    params=params\n",
    ")"
   ]
  },
  {
   "cell_type": "code",
   "execution_count": 6,
   "id": "7f3cb943-aa44-42d4-af4f-8704b9931f5b",
   "metadata": {},
   "outputs": [
    {
     "data": {
      "text/plain": [
       "\"I do not feel comfortable giving personalized investment advice. Investing in cryptocurrency can be risky and volatile. Here are a few general tips to consider:\\n\\n- Only invest what you can afford to lose. Cryptocurrency markets are highly speculative and can be subject to large swings in value.\\n\\n- Do your own research on the specific cryptocurrencies and understand the risks and potential rewards before investing. Not all cryptocurrencies are the same.\\n\\n- Consider diversifying your investments across different asset classes, not just crypto. Don't put all your money into one investment.\\n\\n- Be wary of get-rich-quick schemes or unrealistic promises around crypto investments.\\n\\n- Consult a licensed financial advisor who can evaluate your personal financial situation and goals before making any major investment decisions.\\n\\nThe decision to invest in crypto or not depends on your individual financial circumstances, risk tolerance, and investment goals. I'd encourage you to carefully weigh the pros and cons before deciding if it's right for you. But ultimately, it's a personal choice that you'll need to make for yourself.\""
      ]
     },
     "execution_count": 6,
     "metadata": {},
     "output_type": "execute_result"
    }
   ],
   "source": [
    "chat_client.add_user_message(messages, \"Should I invest in crypto?\")\n",
    "chat_client.set_messages(messages)\n",
    "response = chat_client.send_message()\n",
    "\n",
    "response"
   ]
  },
  {
   "cell_type": "code",
   "execution_count": 11,
   "id": "edd4adab-3519-441f-9072-94c790fb8efa",
   "metadata": {},
   "outputs": [
    {
     "data": {
      "text/plain": [
       "'def has_duplicates(s):\\n    return len(s) != len(set(s))'"
      ]
     },
     "execution_count": 11,
     "metadata": {},
     "output_type": "execute_result"
    }
   ],
   "source": [
    "chat_client.add_user_message(\n",
    "    messages,\n",
    "    \"Write a Python function that checks a string for duplicate characters.\",\n",
    ")\n",
    "chat_client.set_messages(messages)\n",
    "chat_client.set_system(\"You are a Python enginner who writes very concise code. The final output must show the code function only.\")\n",
    "response = chat_client.send_message()\n",
    "\n",
    "response"
   ]
  },
  {
   "cell_type": "code",
   "execution_count": null,
   "id": "f3ce0bba-b8c5-4e49-8f16-14ba5cce38ca",
   "metadata": {},
   "outputs": [],
   "source": []
  }
 ],
 "metadata": {
  "kernelspec": {
   "display_name": "Python 3 (ipykernel)",
   "language": "python",
   "name": "python3"
  },
  "language_info": {
   "codemirror_mode": {
    "name": "ipython",
    "version": 3
   },
   "file_extension": ".py",
   "mimetype": "text/x-python",
   "name": "python",
   "nbconvert_exporter": "python",
   "pygments_lexer": "ipython3",
   "version": "3.10.18"
  }
 },
 "nbformat": 4,
 "nbformat_minor": 5
}
